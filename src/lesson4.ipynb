{
 "cells": [
  {
   "cell_type": "markdown",
   "id": "eca09589",
   "metadata": {},
   "source": [
    "# Practical Lesson 4: Product Allocation to Factories\n",
    "<sup>Example from chapter 8.3 of the book `Introduction to Operations Research` by `Hillier and Lieberman`.</sup>"
   ]
  },
  {
   "cell_type": "markdown",
   "id": "e4c4941a",
   "metadata": {},
   "source": [
    "### Problem Description\n",
    "The Better Products Company has decided to start producing four new products using three factories that currently have excess production capacity. The products require a comparable production effort per unit, so the available production capacity of the factories is measured by the number of units of any product that can be produced daily, as shown in Table 1. Table 2 provides the daily production rate required to meet projected sales. Each factory is capable of producing any of these products, except Factory 2, which cannot manufacture product 3. The variable costs per unit of each product differ from factory to factory, as shown in Table 3.\n",
    "\n",
    "Table 1: Available production capacity, per product unit\n",
    "\n",
    "| | Factory 1 | Factory 2 | Factory 3 |\n",
    "|:---|:---:|:---:|:---:|\n",
    "| Available capacity | 75 | 75 | 45 |\n",
    "\n",
    "Table 2: Daily production demand\n",
    "\n",
    "| | Product 1 | Product 2 | Product 3 | Product 4 |\n",
    "|:---|:---:|:---:|:---:|:---:|\n",
    "| Demand | 20 | 30 | 30 | 40 |\n",
    "\n",
    "Table 3: Unit cost per product\n",
    "\n",
    "| | Product 1 | Product 2 | Product 3 | Product 4 |\n",
    "|:---|:---:|:---:|:---:|:---:|\n",
    "| Factory 1 | 41 | 27 | 28 | 24 |\n",
    "| Factory 2 | 40 | 29 | - | 23 |\n",
    "| Factory 3 | 37 | 30 | 27 | 21 |\n",
    "\n",
    "Management needs to make a decision on how to divide the manufacturing of products among the factories, and has decided to allow the production of the same product to be split across more than one factory.\n",
    "\n",
    "Write a model to determine which factories will produce which products and at what total cost."
   ]
  },
  {
   "cell_type": "markdown",
   "id": "22019138",
   "metadata": {},
   "source": [
    "### Solution"
   ]
  },
  {
   "cell_type": "code",
   "execution_count": 11,
   "id": "fab1ae7a",
   "metadata": {},
   "outputs": [],
   "source": [
    "from mip import *\n",
    "\n",
    "# solves the model and shows the variable values\n",
    "def solve(model):\n",
    "    model.verbose = 0\n",
    "    status = model.optimize()\n",
    "\n",
    "    print(\"Status = \", status)\n",
    "    print(f\"Solution value  = {model.objective_value:.2f}\\n\")\n",
    "\n",
    "    print(\"Solution:\")\n",
    "    for v in model.vars:\n",
    "      print(f\"{v.name} = {v.x:.2f}\")\n",
    "\n",
    "# saves the model to an lp file and shows its contents\n",
    "def save(model, filename):\n",
    "    model.write(filename) # saves the model to a file\n",
    "    with open(filename, \"r\") as f: # reads and displays the file contents\n",
    "        print(f.read())"
   ]
  },
  {
   "cell_type": "markdown",
   "id": "5dac63e0",
   "metadata": {},
   "source": [
    "### Exercise 2\n",
    "\n",
    "Redo the previous model, this time preventing the division of products among factories. That is, each product must be entirely produced in a single factory, to eliminate hidden costs associated with splitting production. Each factory must be assigned at least one product."
   ]
  },
  {
   "cell_type": "code",
   "execution_count": 12,
   "id": "10440904",
   "metadata": {},
   "outputs": [
    {
     "name": "stdout",
     "output_type": "stream",
     "text": [
      "\\Problem name: \n",
      "\n",
      "Minimize\n",
      "OBJROW: 820 x_0_0 + 810 x_0_1 + 840 x_0_2 + 960 x_0_3 + 800 x_1_0 + 870 x_1_1 + 920 x_1_3 + 740 x_2_0 + 900 x_2_1 + 810 x_2_2\n",
      " + 840 x_2_3\n",
      "Subject To\n",
      "constr(0):  20 x_0_0 + 30 x_0_1 + 30 x_0_2 + 40 x_0_3 <= 75\n",
      "constr(1):  20 x_1_0 + 30 x_1_1 + 30 x_1_2 + 40 x_1_3 <= 75\n",
      "constr(2):  20 x_2_0 + 30 x_2_1 + 30 x_2_2 + 40 x_2_3 <= 45\n",
      "constr(3):  x_0_0 + x_1_0 + x_2_0 = 1\n",
      "constr(4):  x_0_1 + x_1_1 + x_2_1 = 1\n",
      "constr(5):  x_0_2 + x_1_2 + x_2_2 = 1\n",
      "constr(6):  x_0_3 + x_1_3 + x_2_3 = 1\n",
      "constr(7):  x_0_0 <= 1\n",
      "constr(8):  x_0_1 <= 1\n",
      "constr(9):  x_0_2 <= 1\n",
      "constr(10):  x_0_3 <= 1\n",
      "constr(11):  x_1_0 <= 1\n",
      "constr(12):  x_1_1 <= 1\n",
      "constr(13):  x_1_2 <= 1\n",
      "constr(14):  x_1_3 <= 1\n",
      "constr(15):  x_2_0 <= 1\n",
      "constr(16):  x_2_1 <= 1\n",
      "constr(17):  x_2_2 <= 1\n",
      "constr(18):  x_2_3 <= 1\n",
      "constr(19):  x_1_2 = 0\n",
      "Bounds\n",
      "Integers\n",
      "x_0_0 x_0_1 x_0_2 x_0_3 x_1_0 x_1_1 x_1_2 x_1_3 x_2_0 x_2_1 \n",
      "x_2_2 x_2_3 \n",
      "End\n",
      "\n"
     ]
    }
   ],
   "source": [
    "# We want to minimize the production cost while meeting the demand\n",
    "model = Model(sense=MINIMIZE, solver_name=CBC)\n",
    "\n",
    "capacities = [75, 75, 45]\n",
    "demands = [20, 30, 30, 40]\n",
    "costs = [[41, 27, 28, 24],\n",
    "         [40, 29,  0, 23],\n",
    "         [37, 30, 27, 21]]\n",
    "\n",
    "num_factories = 3\n",
    "num_products = 4\n",
    "\n",
    "# x[i][j] := 1 if product j is produced in factory i\n",
    "x = [[model.add_var(var_type=INTEGER,\n",
    "                    name=f\"x_{i}_{j}\", lb=0.0) for j in range(num_products)]\n",
    "     for i in range(num_factories)]\n",
    "\n",
    "# Objective function\n",
    "model.objective = xsum(costs[i][j] * x[i][j] * demands[j]\n",
    "                        for i in range(num_factories) for j in range(num_products))\n",
    "\n",
    "# Capacity constraint\n",
    "for i in range(num_factories):\n",
    "    model += xsum(x[i][j] * demands[j] for j in range(num_products)) <= capacities[i]\n",
    "\n",
    "# Each product can only be produced by one factory\n",
    "for j in range(num_products):\n",
    "    model += xsum(x[i][j] for i in range(num_factories)) == 1\n",
    "\n",
    "# Binary constraints\n",
    "for i in range(num_factories):\n",
    "    for j in range(num_products):\n",
    "        model += x[i][j] <= 1\n",
    "\n",
    "# Factory 2 cannot produce product 3\n",
    "model += x[1][2] == 0\n",
    "\n",
    "save(model, \"../data/lesson4.lp\")"
   ]
  },
  {
   "cell_type": "code",
   "execution_count": 14,
   "id": "08714506",
   "metadata": {},
   "outputs": [
    {
     "name": "stdout",
     "output_type": "stream",
     "text": [
      "Status =  OptimizationStatus.OPTIMAL\n",
      "Solution value  = 3290.00\n",
      "\n",
      "Solution:\n",
      "x_0_0 = 0.00\n",
      "x_0_1 = 1.00\n",
      "x_0_2 = 1.00\n",
      "x_0_3 = 0.00\n",
      "x_1_0 = 1.00\n",
      "x_1_1 = 0.00\n",
      "x_1_2 = 0.00\n",
      "x_1_3 = 0.00\n",
      "x_2_0 = 0.00\n",
      "x_2_1 = 0.00\n",
      "x_2_2 = 0.00\n",
      "x_2_3 = 1.00\n"
     ]
    }
   ],
   "source": [
    "solve(model)"
   ]
  }
 ],
 "metadata": {
  "kernelspec": {
   "display_name": "python-mip",
   "language": "python",
   "name": "python3"
  },
  "language_info": {
   "codemirror_mode": {
    "name": "ipython",
    "version": 3
   },
   "file_extension": ".py",
   "mimetype": "text/x-python",
   "name": "python",
   "nbconvert_exporter": "python",
   "pygments_lexer": "ipython3",
   "version": "3.12.11"
  }
 },
 "nbformat": 4,
 "nbformat_minor": 5
}
