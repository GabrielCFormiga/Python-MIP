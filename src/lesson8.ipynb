{
 "cells": [
  {
   "cell_type": "markdown",
   "id": "4927a0a6",
   "metadata": {},
   "source": [
    "# Practical Lesson 8: Steel Company"
   ]
  },
  {
   "cell_type": "markdown",
   "id": "8726ec80",
   "metadata": {},
   "source": [
    "### __Problem Description__:\n",
    "A steel company has 3 plants, and each requires a minimum monthly amount of ore to operate. The company purchases ore from 3 different mines. Each mine has a maximum established monthly production capacity. Due to contractual obligations, the cost of ore for the company consists of a fixed monthly cost for each mine (this amount is paid regardless of the quantity of ore purchased from the mine), plus a transportation cost ($/t) that varies according to the distance between the mines and plants (each mine/plant pair has a different cost). The data are shown in the table below:\n",
    "\n",
    "|            | Mine 1 ($/t) | Mine 2 ($/t) | Mine 3 ($/t) | Ore Requirement (t/month) |\n",
    "|:----------:|:------------:|:------------:|:------------:|:------------------------:|\n",
    "| Plant 1    | 10           | 8            | 13           | 12,300                   |\n",
    "| Plant 2    | 7            | 9            | 16           | 15,400                   |\n",
    "| Plant 3    | 6,5          | 10,8         | 12,6         | 13,300                   |\n",
    "| **Max. mine capacity** | 11,500        | 16,500        | 13,000        | -                        |\n",
    "| **Fixed cost ($)**     | 50,000        | 40,000        | 30,000        | -                        |\n",
    "\n",
    "Build an optimization model to determine the quantity of ore to be purchased from each mine and delivered to each plant in order to minimize the total cost of ore procurement."
   ]
  },
  {
   "cell_type": "code",
   "execution_count": 18,
   "id": "8f8b1bac",
   "metadata": {},
   "outputs": [],
   "source": [
    "from mip import *\n",
    "\n",
    "def solve(model):\n",
    "    model.verbose = 0\n",
    "    status = model.optimize()\n",
    "\n",
    "    print(\"Status = \", status)\n",
    "    print(f\"Solution value  = {model.objective_value}\\n\")\n",
    "\n",
    "    print(\"Solution:\")\n",
    "    for v in model.vars:\n",
    "      if v.x > 0.00001 and v.name.find(\"x\")!=-1:\n",
    "        print(v.name, \" = \", v.x)\n",
    "\n",
    "def save(model, filename):\n",
    "    model.write(filename) \n",
    "    with open(filename, \"r\") as f: \n",
    "        print(f.read())"
   ]
  },
  {
   "cell_type": "code",
   "execution_count": 19,
   "id": "145c43b0",
   "metadata": {},
   "outputs": [],
   "source": [
    "qtd_mines = 3\n",
    "qtd_plants = 3\n",
    "\n",
    "# t_cost[i][j] : transportation cost from mine j to plant i\n",
    "t_cost = [\n",
    "    [10, 8, 13],\n",
    "    [7, 9, 16],\n",
    "    [6.5, 10.8, 12.6]\n",
    "]\n",
    "\n",
    "# f_cost[i] : fixed cost for mine i\n",
    "f_cost = [\n",
    "    50000,\n",
    "    40000,\n",
    "    30000\n",
    "]\n",
    "\n",
    "# r[i] : ore requirement for plant i\n",
    "r = [\n",
    "    12300,\n",
    "    15400,\n",
    "    13300\n",
    "]\n",
    "\n",
    "# c[i] : capacity of mine i\n",
    "c = [\n",
    "    11500,\n",
    "    16500,\n",
    "    13000\n",
    "]"
   ]
  },
  {
   "cell_type": "code",
   "execution_count": 20,
   "id": "b7c6b009",
   "metadata": {},
   "outputs": [
    {
     "name": "stdout",
     "output_type": "stream",
     "text": [
      "\\Problem name: \n",
      "\n",
      "Minimize\n",
      "OBJROW: 10 x_0_0 + 8 x_0_1 + 13 x_0_2 + 7 x_1_0 + 9 x_1_1 + 16 x_1_2 + 6.50000 x_2_0 + 10.80000 x_2_1 + 12.60000 x_2_2 + 50000 y_0\n",
      " + 40000 y_1 + 30000 y_2\n",
      "Subject To\n",
      "mine_capacity_0:  x_0_0 + x_1_0 + x_2_0 -11500 y_0 <= -0\n",
      "mine_capacity_1:  x_0_1 + x_1_1 + x_2_1 -16500 y_1 <= -0\n",
      "mine_capacity_2:  x_0_2 + x_1_2 + x_2_2 -13000 y_2 <= -0\n",
      "plant_demand_0:  x_0_0 + x_0_1 + x_0_2 >= 12300\n",
      "plant_demand_1:  x_1_0 + x_1_1 + x_1_2 >= 15400\n",
      "plant_demand_2:  x_2_0 + x_2_1 + x_2_2 >= 13300\n",
      "Bounds\n",
      " 0 <= y_0 <= 1\n",
      " 0 <= y_1 <= 1\n",
      " 0 <= y_2 <= 1\n",
      "Integers\n",
      "y_0 y_1 y_2 \n",
      "End\n",
      "\n"
     ]
    }
   ],
   "source": [
    "model = Model(sense=MINIMIZE, solver_name=CBC)\n",
    "\n",
    "# x[i][j] : amount of ore transported from mine j to plant i\n",
    "x = [\n",
    "    [model.add_var(lb=0, var_type=CONTINUOUS, name=f\"x_{i}_{j}\") for j in range(qtd_mines)] for i in range(qtd_plants)\n",
    "]\n",
    "\n",
    "# y[i] : is 1 if any amount of ore is purchased from mine i\n",
    "y = [model.add_var(var_type=BINARY, name=f\"y_{i}\") for i in range(qtd_mines)]\n",
    "\n",
    "\n",
    "# Objective function\n",
    "model.objective = xsum(t_cost[i][j] * x[i][j] for i in range(qtd_plants) for j in range(qtd_mines)) + \\\n",
    "                  xsum(f_cost[i] * y[i] for i in range(qtd_mines))\n",
    "\n",
    "# Mines Capacity Constraints\n",
    "for j in range(qtd_mines):\n",
    "    model.add_constr(lin_expr=xsum(x[i][j] for i in range(qtd_plants)) <= c[j] * y[j], name=f\"mine_capacity_{j}\")\n",
    "\n",
    "# Plants Demand Constraints\n",
    "for i in range(qtd_plants):\n",
    "    model.add_constr(lin_expr=xsum(x[i][j] for j in range(qtd_mines)) >= r[i], name=f\"plant_demand_{i}\")\n",
    "\n",
    "# Show the Model\n",
    "save(model, \"../data/lesson8.lp\")"
   ]
  },
  {
   "cell_type": "code",
   "execution_count": null,
   "id": "2c1e1308",
   "metadata": {},
   "outputs": [],
   "source": [
    "solve(model)"
   ]
  }
 ],
 "metadata": {
  "kernelspec": {
   "display_name": "python-mip",
   "language": "python",
   "name": "python3"
  },
  "language_info": {
   "codemirror_mode": {
    "name": "ipython",
    "version": 3
   },
   "file_extension": ".py",
   "mimetype": "text/x-python",
   "name": "python",
   "nbconvert_exporter": "python",
   "pygments_lexer": "ipython3",
   "version": "3.12.11"
  }
 },
 "nbformat": 4,
 "nbformat_minor": 5
}
