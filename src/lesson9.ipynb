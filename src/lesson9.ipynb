{
 "cells": [
  {
   "cell_type": "markdown",
   "id": "808d1230",
   "metadata": {},
   "source": [
    "# Practical Lesson 9: Agricultural Production"
   ]
  },
  {
   "cell_type": "markdown",
   "id": "435c4ed8",
   "metadata": {},
   "source": [
    "### __Problem Description__:\n",
    "It is necessary to plan agricultural production by allocating activities to three types of regions. The characteristics by region are:\n",
    "\n",
    "|            |  A  |  B  |  C  |\n",
    "|:----------:|:---:|:---:|:---:|\n",
    "| Total area (ha) | 400 | 600 | 300 |\n",
    "| Water avail. (m³) | 600 | 800 | 375 |\n",
    "\n",
    "The products can be: wheat, cotton, and soybeans. The characteristics of the products are:\n",
    "\n",
    "|            |  Wheat  | Cotton | Soybeans |\n",
    "|:----------:|:-------:|:------:|:-------:|\n",
    "| Max area (ha)  |   600   |  500   |  325   |\n",
    "| Water cons. (m³/ha) |    3    |   2    |   1    |\n",
    "| Profit ($/ha) |   400   |  300   |  100   |\n",
    "\n",
    "Formulate a linear programming problem to allocate the activities and maximize profit."
   ]
  },
  {
   "cell_type": "code",
   "execution_count": 1,
   "id": "40e5f1d1",
   "metadata": {},
   "outputs": [],
   "source": [
    "from mip import *\n",
    "\n",
    "def solve(model):\n",
    "    model.verbose = 0\n",
    "    status = model.optimize()\n",
    "\n",
    "    print(\"Status = \", status)\n",
    "    print(f\"Solution value  = {model.objective_value}\\n\")\n",
    "\n",
    "    print(\"Solution:\")\n",
    "    for v in model.vars:\n",
    "      if v.x > 0.00001 and v.name.find(\"x\")!=-1:\n",
    "        print(v.name, \" = \", v.x)\n",
    "\n",
    "def save(model, filename):\n",
    "    model.write(filename) \n",
    "    with open(filename, \"r\") as f: \n",
    "        print(f.read())"
   ]
  },
  {
   "cell_type": "code",
   "execution_count": 2,
   "id": "1b29b3ba",
   "metadata": {},
   "outputs": [],
   "source": [
    "qtd_regions = 3\n",
    "qtd_products = 3\n",
    "\n",
    "# t_area[i] : total area (ha) of each region\n",
    "t_area = [400, 600, 300]\n",
    "\n",
    "# w_avail[i] : water availability (m³) in each region\n",
    "w_avail = [600, 800, 375]\n",
    "\n",
    "# mx_area[i] : maximum area (ha) for each product\n",
    "mx_area = [600, 500, 325]\n",
    "\n",
    "# w_cons[i] : water consumption (m³/ha) for each product\n",
    "w_cons = [3, 2, 1]\n",
    "\n",
    "# p[i] : profit ($/ha) for each product\n",
    "p = [400, 300, 100]"
   ]
  },
  {
   "cell_type": "code",
   "execution_count": 9,
   "id": "756377a9",
   "metadata": {},
   "outputs": [
    {
     "name": "stdout",
     "output_type": "stream",
     "text": [
      "\\Problem name: Agricultural Production\n",
      "\n",
      "Minimize\n",
      "OBJROW: -400 x_0_0 -400 x_0_1 -400 x_0_2 -300 x_1_0 -300 x_1_1 -300 x_1_2 -100 x_2_0 -100 x_2_1 -100 x_2_2\n",
      "Subject To\n",
      "total_area_constraint_0:  x_0_0 + x_1_0 + x_2_0 <= 400\n",
      "total_area_constraint_1:  x_0_1 + x_1_1 + x_2_1 <= 600\n",
      "total_area_constraint_2:  x_0_2 + x_1_2 + x_2_2 <= 300\n",
      "max_area_constraint_0:  x_0_0 + x_0_1 + x_0_2 <= 600\n",
      "max_area_constraint_1:  x_1_0 + x_1_1 + x_1_2 <= 500\n",
      "max_area_constraint_2:  x_2_0 + x_2_1 + x_2_2 <= 325\n",
      "water_constraint_0:  3 x_0_0 + 2 x_1_0 + x_2_0 <= 600\n",
      "water_constraint_1:  3 x_0_1 + 2 x_1_1 + x_2_1 <= 800\n",
      "water_constraint_2:  3 x_0_2 + 2 x_1_2 + x_2_2 <= 375\n",
      "Bounds\n",
      " 0 <= x_0_0 <= 600\n",
      " 0 <= x_0_1 <= 600\n",
      " 0 <= x_0_2 <= 600\n",
      " 0 <= x_1_0 <= 500\n",
      " 0 <= x_1_1 <= 500\n",
      " 0 <= x_1_2 <= 500\n",
      " 0 <= x_2_0 <= 325\n",
      " 0 <= x_2_1 <= 325\n",
      " 0 <= x_2_2 <= 325\n",
      "End\n",
      "\n"
     ]
    }
   ],
   "source": [
    "model = Model(name=\"Agricultural Production\", sense=MAXIMIZE, solver_name=CBC)\n",
    "\n",
    "# x[i][j] : area (ha) of product i in region j\n",
    "x = [[model.add_var(name=f\"x_{i}_{j}\", lb=0, ub=mx_area[i], var_type=CONTINUOUS) for j in range(qtd_regions)] for i in range(qtd_products)]\n",
    "\n",
    "# Objective function\n",
    "model.objective = xsum(p[i] * x[i][j] for i in range(qtd_products) for j in range(qtd_regions))\n",
    "\n",
    "# Total area constraints\n",
    "for j in range(qtd_regions):\n",
    "    model.add_constr(lin_expr=xsum(x[i][j] for i in range(qtd_products)) <= t_area[j], name=f\"total_area_constraint_{j}\")\n",
    "\n",
    "# Max area constraints\n",
    "for i in range(qtd_products):\n",
    "    model.add_constr(lin_expr=xsum(x[i][j] for j in range(qtd_regions)) <= mx_area[i], name=f\"max_area_constraint_{i}\")\n",
    "\n",
    "# Water constraints\n",
    "for j in range(qtd_regions):\n",
    "    model.add_constr(lin_expr=xsum(w_cons[i] * x[i][j] for i in range(qtd_products)) <= w_avail[j], name=f\"water_constraint_{j}\")\n",
    "\n",
    "save(model, \"../data/lesson9.lp\")"
   ]
  },
  {
   "cell_type": "code",
   "execution_count": 10,
   "id": "48a24496",
   "metadata": {},
   "outputs": [
    {
     "name": "stdout",
     "output_type": "stream",
     "text": [
      "Status =  OptimizationStatus.OPTIMAL\n",
      "Solution value  = 253333.3333333333\n",
      "\n",
      "Solution:\n",
      "x_0_1  =  133.33333333333331\n",
      "x_0_2  =  125.0\n",
      "x_1_0  =  300.0\n",
      "x_1_1  =  200.0\n"
     ]
    }
   ],
   "source": [
    "solve(model)"
   ]
  }
 ],
 "metadata": {
  "kernelspec": {
   "display_name": "python-mip",
   "language": "python",
   "name": "python3"
  },
  "language_info": {
   "codemirror_mode": {
    "name": "ipython",
    "version": 3
   },
   "file_extension": ".py",
   "mimetype": "text/x-python",
   "name": "python",
   "nbconvert_exporter": "python",
   "pygments_lexer": "ipython3",
   "version": "3.12.11"
  }
 },
 "nbformat": 4,
 "nbformat_minor": 5
}
