{
 "cells": [
  {
   "cell_type": "markdown",
   "id": "cf568e39",
   "metadata": {},
   "source": [
    "# Practical Lesson 10: Craftsman's Workshop"
   ]
  },
  {
   "cell_type": "markdown",
   "id": "212944f6",
   "metadata": {},
   "source": [
    "### __Problem Description__:\n",
    "\n",
    "A craftsman's workshop has bars of 6 meters in length that need to be cut to obtain smaller bars in the following sizes: \n",
    "\n",
    "50 bars of 2 meters, 60 bars of 3 meters, and 90 bars of 4 meters. \n",
    "\n",
    "Develop an integer linear programming model that minimizes the waste from the cuts.\n"
   ]
  },
  {
   "cell_type": "markdown",
   "id": "e4dbb49c",
   "metadata": {},
   "source": [
    "### Solution for Minimizing Wasted Space"
   ]
  },
  {
   "cell_type": "code",
   "execution_count": 56,
   "id": "4cafb18d",
   "metadata": {},
   "outputs": [],
   "source": [
    "from mip import *\n",
    "\n",
    "def solve(model):\n",
    "    model.verbose = 0\n",
    "    status = model.optimize()\n",
    "\n",
    "    print(\"Status = \", status)\n",
    "    print(f\"Solution value  = {model.objective_value}\\n\")\n",
    "\n",
    "    print(\"Solution:\")\n",
    "    for v in model.vars:\n",
    "      if v.x > 0.00001 and v.name.find(\"x\")!=-1:\n",
    "        print(v.name, \" = \", v.x)\n",
    "\n",
    "def save(model, filename):\n",
    "    model.write(filename) \n",
    "    with open(filename, \"r\") as f: \n",
    "        print(f.read())"
   ]
  },
  {
   "cell_type": "code",
   "execution_count": 57,
   "id": "8be83686",
   "metadata": {},
   "outputs": [],
   "source": [
    "qtd_patterns = 8\n",
    "qtd_lengths = 3\n",
    "\n",
    "# patterns[i] := (bars of length 2, bars of length 3, bars of length 4)\n",
    "patterns = [\n",
    "    [1, 0, 0],\n",
    "    [0, 1, 0],\n",
    "    [0, 0, 1],\n",
    "    [2, 0, 0],\n",
    "    [0, 2, 0],\n",
    "    [1, 1, 0],\n",
    "    [1, 0, 1],\n",
    "    [3, 0, 0]\n",
    "]\n",
    "# waste[i] := waste from cutting bar in pattern i\n",
    "waste = [4, 3, 2, 2, 0, 1, 0, 0]\n",
    "\n",
    "# demands[j] := demand for bars of type j\n",
    "demands = [50, 60, 90]"
   ]
  },
  {
   "cell_type": "code",
   "execution_count": 58,
   "id": "57353013",
   "metadata": {},
   "outputs": [
    {
     "name": "stdout",
     "output_type": "stream",
     "text": [
      "\\Problem name: Cutting Stock Problem\n",
      "\n",
      "Minimize\n",
      "OBJROW: 4 x_0 + 3 x_1 + 2 x_2 + 2 x_3 + x_5\n",
      "Subject To\n",
      "bar_0:  x_0 + 2 x_3 + x_5 + x_6 + 3 x_7 = 50\n",
      "bar_1:  x_1 + 2 x_4 + x_5 = 60\n",
      "bar_2:  x_2 + x_6 = 90\n",
      "Bounds\n",
      "Integers\n",
      "x_0 x_1 x_2 x_3 x_4 x_5 x_6 x_7 \n",
      "End\n",
      "\n"
     ]
    }
   ],
   "source": [
    "model = Model(name=\"Cutting Stock Problem\", sense=MINIMIZE, solver_name=CBC)\n",
    "\n",
    "# x[i] := number of cuts for pattern i\n",
    "x = [model.add_var(name=f\"x_{i}\", var_type=INTEGER, lb=0) for i in range(qtd_patterns)]\n",
    "\n",
    "# Objective function\n",
    "model.objective = xsum(x[i] * waste[i] for i in range(qtd_patterns))\n",
    "\n",
    "# Constraints\n",
    "for j in range(qtd_lengths):\n",
    "    model.add_constr(name=f\"bar_{j}\", lin_expr=xsum(patterns[i][j] * x[i] for i in range(qtd_patterns)) == demands[j])\n",
    "\n",
    "save(model, \"../data/lesson10_1.lp\")"
   ]
  },
  {
   "cell_type": "code",
   "execution_count": 59,
   "id": "0211e9c3",
   "metadata": {},
   "outputs": [
    {
     "name": "stdout",
     "output_type": "stream",
     "text": [
      "Status =  OptimizationStatus.OPTIMAL\n",
      "Solution value  = 80.0\n",
      "\n",
      "Solution:\n",
      "x_2  =  40.0\n",
      "x_4  =  30.0\n",
      "x_6  =  50.0\n"
     ]
    }
   ],
   "source": [
    "solve(model)"
   ]
  },
  {
   "cell_type": "markdown",
   "id": "7e9ff896",
   "metadata": {},
   "source": [
    "### Solution for Minimizing Patterns\n",
    "\n",
    "Another solution could be minimizing the number of total pattern used.\n",
    "\n",
    "For this, we can remove patterns that are subset of other."
   ]
  },
  {
   "cell_type": "code",
   "execution_count": 60,
   "id": "8c651bb0",
   "metadata": {},
   "outputs": [],
   "source": [
    "qtd_patterns = 4\n",
    "qtd_lengths = 3\n",
    "\n",
    "# patterns[i] := (bars of length 2, bars of length 3, bars of length 4)\n",
    "patterns = [\n",
    "    [0, 2, 0],\n",
    "    [1, 1, 0],\n",
    "    [1, 0, 1],\n",
    "    [3, 0, 0]\n",
    "]\n",
    "# waste[i] := waste from cutting bar in pattern i\n",
    "waste = [0, 1, 0, 0]\n",
    "\n",
    "# demands[j] := demand for bars of type j\n",
    "demands = [50, 60, 90]"
   ]
  },
  {
   "cell_type": "code",
   "execution_count": 63,
   "id": "53769a6a",
   "metadata": {},
   "outputs": [
    {
     "name": "stdout",
     "output_type": "stream",
     "text": [
      "\\Problem name: Cutting Stock Problem\n",
      "\n",
      "Minimize\n",
      "OBJROW: x_0 + x_1 + x_2 + x_3\n",
      "Subject To\n",
      "bar_0:  x_1 + x_2 + 3 x_3 >= 50\n",
      "bar_1:  2 x_0 + x_1 >= 60\n",
      "bar_2:  x_2 >= 90\n",
      "Bounds\n",
      "Integers\n",
      "x_0 x_1 x_2 x_3 \n",
      "End\n",
      "\n"
     ]
    }
   ],
   "source": [
    "model = Model(name=\"Cutting Stock Problem\", sense=MINIMIZE, solver_name=CBC)\n",
    "\n",
    "# x[i] := number of cuts for pattern i\n",
    "x = [model.add_var(name=f\"x_{i}\", var_type=INTEGER, lb=0) for i in range(qtd_patterns)]\n",
    "\n",
    "# Objective function\n",
    "model.objective = xsum(x[i] for i in range(qtd_patterns))\n",
    "\n",
    "# Constraints\n",
    "for j in range(qtd_lengths):\n",
    "    model.add_constr(name=f\"bar_{j}\", lin_expr=xsum(patterns[i][j] * x[i] for i in range(qtd_patterns)) >= demands[j])\n",
    "\n",
    "save(model, \"../data/lesson10_2.lp\")"
   ]
  },
  {
   "cell_type": "code",
   "execution_count": 64,
   "id": "f93cb296",
   "metadata": {},
   "outputs": [
    {
     "name": "stdout",
     "output_type": "stream",
     "text": [
      "Status =  OptimizationStatus.OPTIMAL\n",
      "Solution value  = 120.0\n",
      "\n",
      "Solution:\n",
      "x_0  =  30.0\n",
      "x_2  =  90.0\n"
     ]
    }
   ],
   "source": [
    "solve(model)"
   ]
  }
 ],
 "metadata": {
  "kernelspec": {
   "display_name": "python-mip",
   "language": "python",
   "name": "python3"
  },
  "language_info": {
   "codemirror_mode": {
    "name": "ipython",
    "version": 3
   },
   "file_extension": ".py",
   "mimetype": "text/x-python",
   "name": "python",
   "nbconvert_exporter": "python",
   "pygments_lexer": "ipython3",
   "version": "3.12.11"
  }
 },
 "nbformat": 4,
 "nbformat_minor": 5
}
