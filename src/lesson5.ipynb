{
 "cells": [
  {
   "cell_type": "markdown",
   "id": "81c77eeb",
   "metadata": {},
   "source": [
    "# Practical Lesson 5: Facility Location"
   ]
  },
  {
   "cell_type": "markdown",
   "id": "97a033df",
   "metadata": {},
   "source": [
    "### __Problem Description__:\n",
    "There are $n$ districts in a metropolitan region. The distance between district $i$ and district $j$ is given by $d_{ij}$. The goal is to choose in which districts Emergency Care Units (UPAs) should be installed. Legislation requires that the distance between a district and the nearest UPA must be at most $R$ (ignore units). What is the minimum number of UPAs that must be installed? Model the problem using Integer Linear Programming and solve the shared instance below using python-mip. In your model, consider $D = \\{1, ..., n\\}$ as the set of districts."
   ]
  },
  {
   "cell_type": "code",
   "execution_count": 61,
   "id": "5dbfe4b2",
   "metadata": {},
   "outputs": [],
   "source": [
    "from mip import *\n",
    "\n",
    "def solve(model):\n",
    "    model.verbose = 0\n",
    "    status = model.optimize()\n",
    "\n",
    "    print(\"Status = \", status)\n",
    "    print(f\"Solution value  = {model.objective_value}\\n\")\n",
    "\n",
    "    print(\"Solution:\")\n",
    "    for v in model.vars:\n",
    "      if v.x > 0.00001 and v.name.find(\"x\")!=-1:\n",
    "        print(v.name, \" = \", v.x)"
   ]
  },
  {
   "cell_type": "code",
   "execution_count": 62,
   "id": "96ccca21",
   "metadata": {},
   "outputs": [],
   "source": [
    "D = [(64, 74), (40, 9), (59, 5), (43, 6), (69, 51),\n",
    "     (40, 15), (2, 87), (1, 61), (15, 41), (4, 49),\n",
    "     (25, 82), (10, 49), (93, 95), (98, 3), (88, 65),\n",
    "     (48, 28), (47, 18), (52, 75), (94, 84), (54, 83),\n",
    "     (48, 80), (62, 87), (9, 76), (39, 47), (99, 0),\n",
    "     (83, 21), (35, 13), (32, 6), (31, 59), (48, 48),\n",
    "     (63, 25), (76, 47), (64, 42), (72, 66), (23, 49),\n",
    "     (15, 19), (1, 73), (60, 60), (85, 73), (17, 50),\n",
    "     (62, 47), (92, 68), (75, 62), (58, 9), (32, 42),\n",
    "     (22, 58), (41, 36), (94, 18), (23, 43), (50, 96),\n",
    "     (32, 25), (56, 64), (27, 31), (45, 9), (79, 41),\n",
    "     (55, 69), (7, 57), (88, 31), (7, 40), (42, 2)]"
   ]
  },
  {
   "cell_type": "code",
   "execution_count": 63,
   "id": "c3053aa8",
   "metadata": {},
   "outputs": [],
   "source": [
    "def calc_dists(points):\n",
    "    n = len(points)\n",
    "    dists = [[0 for i in range(n)] for j in range(n)]\n",
    "    for i in range(n):\n",
    "        for j in range(n):\n",
    "            x1, y1 = points[i]\n",
    "            x2, y2 = points[j]\n",
    "            d = int(np.sqrt((x1 - x2)**2 + (y1 - y2)**2) + 0.5)\n",
    "            dists[i][j] = d\n",
    "\n",
    "    return dists"
   ]
  },
  {
   "cell_type": "code",
   "execution_count": 64,
   "id": "d0106073",
   "metadata": {},
   "outputs": [],
   "source": [
    "def create_model(n, R, dist): \n",
    "    # n is the number of districts\n",
    "    # R is the maximum distance between a district and a UPA\n",
    "    # dist is a list of lists, each dist[i] contains the distance from district i+1 to all other districts\n",
    "\n",
    "    model = Model(sense=MINIMIZE, solver_name=CBC)\n",
    "\n",
    "    # x[i] := 1 if there is a UPA in district i + 1, 0 otherwise\n",
    "    x = [model.add_var(var_type=BINARY, name=f\"x_{i}\") for i in range(n)]\n",
    "\n",
    "    # y[i] := number of UPAs that cover district i + 1\n",
    "    y = [model.add_var(var_type=INTEGER, name=f\"y_{i}\", lb=0.0) for i in range(n)]\n",
    "\n",
    "    # Objective function\n",
    "    model.objective = xsum(x[i] for i in range(n))\n",
    "\n",
    "    # Cover constraints\n",
    "    for i in range(n):\n",
    "        model += y[i] >= 1\n",
    "        model += y[i] == xsum(x[j] for j in range(n) if dist[i][j] <= R)\n",
    "\n",
    "    return model"
   ]
  },
  {
   "cell_type": "code",
   "execution_count": 65,
   "id": "080a923f",
   "metadata": {},
   "outputs": [
    {
     "name": "stdout",
     "output_type": "stream",
     "text": [
      "Status =  OptimizationStatus.OPTIMAL\n",
      "Solution value  = 3.0\n",
      "\n",
      "Solution:\n",
      "x_2  =  1.0\n",
      "x_9  =  1.0\n",
      "x_33  =  1.0\n"
     ]
    }
   ],
   "source": [
    "dists = calc_dists(D)\n",
    "\n",
    "n = len(D)\n",
    "R = 40\n",
    "# faça para R = 20, 30 e 40\n",
    "\n",
    "model = cria_modelo(n, R, dists)\n",
    "solve(model)"
   ]
  }
 ],
 "metadata": {
  "kernelspec": {
   "display_name": "python-mip",
   "language": "python",
   "name": "python3"
  },
  "language_info": {
   "codemirror_mode": {
    "name": "ipython",
    "version": 3
   },
   "file_extension": ".py",
   "mimetype": "text/x-python",
   "name": "python",
   "nbconvert_exporter": "python",
   "pygments_lexer": "ipython3",
   "version": "3.12.11"
  }
 },
 "nbformat": 4,
 "nbformat_minor": 5
}
